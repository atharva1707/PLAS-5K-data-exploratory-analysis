{
  "nbformat": 4,
  "nbformat_minor": 0,
  "metadata": {
    "colab": {
      "provenance": [],
      "gpuType": "T4"
    },
    "kernelspec": {
      "name": "python3",
      "display_name": "Python 3"
    },
    "language_info": {
      "name": "python"
    },
    "accelerator": "GPU"
  },
  "cells": [
    {
      "cell_type": "code",
      "execution_count": 37,
      "metadata": {
        "id": "-jIe24B_c5Kg"
      },
      "outputs": [],
      "source": [
        "import pandas as pd\n",
        "import numpy as np\n",
        "import matplotlib.pyplot as plt\n",
        "import requests\n",
        "import concurrent.futures\n",
        "from google.colab import files\n",
        "\n"
      ]
    },
    {
      "cell_type": "code",
      "source": [
        "df = pd.read_csv('5000_final.csv')"
      ],
      "metadata": {
        "id": "6NvsgAxmeprO"
      },
      "execution_count": 38,
      "outputs": []
    },
    {
      "cell_type": "code",
      "source": [
        "# List of columns to keep (without sd columns)\n",
        "columns_to_keep = [col for col in df.columns if '_sd' not in col]\n",
        "new_df = df[columns_to_keep]\n",
        "print(new_df.head())"
      ],
      "metadata": {
        "colab": {
          "base_uri": "https://localhost:8080/"
        },
        "id": "5L4dhTW6euKh",
        "outputId": "78188ff9-8e9d-4df7-b035-8995e765985e"
      },
      "execution_count": 39,
      "outputs": [
        {
          "output_type": "stream",
          "name": "stdout",
          "text": [
            "  pdbid  binding_affinity (kcal/mol)  electrostatic (kcal/mol)  \\\n",
            "0  6g3f                     -0.25570                  -0.98408   \n",
            "1  5fpd                     -2.61456                  -1.01432   \n",
            "2  6hxe                     -0.98558                  -8.41628   \n",
            "3  5nqb                     -1.05920                 -36.85828   \n",
            "4  4q3f                     -1.52816                  -5.36862   \n",
            "\n",
            "   polar_solvation (kcal/mol)  non_polar_solvation (kcal/mol)  vdW (kcal/mol)  \n",
            "0                    -0.34568                         1.26248        -0.18842  \n",
            "1                    -0.56942                         1.62432        -2.65510  \n",
            "2                    -0.81082                         7.90220         0.33930  \n",
            "3                    -0.46456                        34.03790         2.22572  \n",
            "4                    -0.74246                         5.44818        -0.86530  \n"
          ]
        }
      ]
    },
    {
      "cell_type": "code",
      "source": [
        "def get_protein_info(pdb_id):\n",
        "    url = f\"https://data.rcsb.org/rest/v1/core/entry/{pdb_id}\"\n",
        "    response = requests.get(url)\n",
        "\n",
        "    if response.status_code == 200:\n",
        "        return response.json()\n",
        "    else:\n",
        "        print(f\"Error: Unable to retrieve data for PDB ID {pdb_id}.\")\n",
        "        return None\n"
      ],
      "metadata": {
        "id": "KNWGOuKSm4mB"
      },
      "execution_count": 41,
      "outputs": []
    },
    {
      "cell_type": "code",
      "source": [
        "def get_molecular_weight(protein_data):\n",
        "    return protein_data['rcsb_entry_info']['molecular_weight']\n"
      ],
      "metadata": {
        "id": "OwqoAlp_-jpG"
      },
      "execution_count": 42,
      "outputs": []
    },
    {
      "cell_type": "code",
      "source": [
        "def get_entity_count(protein_data):\n",
        "    return protein_data['rcsb_entry_info']['entity_count']\n"
      ],
      "metadata": {
        "id": "lbdrreGUBIzx"
      },
      "execution_count": 43,
      "outputs": []
    },
    {
      "cell_type": "code",
      "source": [
        "def get_unit_cell_dimensions(protein_data):\n",
        "    dimension = {}\n",
        "    dimension['l1'] = protein_data['cell']['length_a']\n",
        "    dimension['l2'] = protein_data['cell']['length_b']\n",
        "    dimension['l3'] = protein_data['cell']['length_c']\n",
        "    return dimension\n"
      ],
      "metadata": {
        "id": "ncMm47Ta98mL"
      },
      "execution_count": 44,
      "outputs": []
    },
    {
      "cell_type": "code",
      "source": [
        "# Iterate over each row in the DataFrame\n",
        "def process_row(row, index):\n",
        "    pdb_id = row['pdbid']\n",
        "\n",
        "    # Get protein information\n",
        "    protein_info = get_protein_info(pdb_id)\n",
        "\n",
        "    if protein_info:\n",
        "\n",
        "        # making a new row without the standard deviation columns\n",
        "        columns_to_keep = [col for col in df.columns if '_sd' not in col]\n",
        "        new_row = row[columns_to_keep]\n",
        "\n",
        "\n",
        "        # adding dimension, weight and entity_count of the protein to the row\n",
        "        dimension = get_unit_cell_dimensions(protein_info)\n",
        "        new_row['weight'] = get_molecular_weight(protein_info)\n",
        "        new_row['entity_count'] = get_entity_count(protein_info)\n",
        "        new_row['l1'] = dimension['l1']\n",
        "        new_row['l2'] = dimension['l2']\n",
        "        new_row['l3'] = dimension['l3']\n",
        "\n",
        "\n",
        "\n",
        "        # print(index, row)\n",
        "        return new_row\n",
        "\n"
      ],
      "metadata": {
        "id": "6gC-LsddnSzj"
      },
      "execution_count": 45,
      "outputs": []
    },
    {
      "cell_type": "code",
      "source": [
        "with concurrent.futures.ThreadPoolExecutor() as executor:\n",
        "    # Submit tasks for each row\n",
        "    futures = [executor.submit(process_row, row, index) for index, row in df.iterrows()]\n",
        "\n",
        "    # Wait for all tasks to complete and get the updated rows\n",
        "    updated_rows = [future.result() for future in concurrent.futures.as_completed(futures)]\n",
        "\n",
        "\n",
        "\n",
        "# Print or use the updated DataFrame\n"
      ],
      "metadata": {
        "colab": {
          "base_uri": "https://localhost:8080/"
        },
        "id": "DOLB5Bobq9pq",
        "outputId": "02046dab-68d8-43e9-ca81-ce4a15e1e7ea"
      },
      "execution_count": 51,
      "outputs": [
        {
          "output_type": "stream",
          "name": "stdout",
          "text": [
            "Error: Unable to retrieve data for PDB ID 1h6w.\n",
            "Error: Unable to retrieve data for PDB ID 1h6w.\n"
          ]
        }
      ]
    },
    {
      "cell_type": "code",
      "source": [
        "filtered_updated_rows = []\n",
        "for row in updated_rows:\n",
        "    if row is None:\n",
        "        continue\n",
        "    filtered_updated_rows.append(row)\n",
        "\n",
        "updated_df = pd.DataFrame(filtered_updated_rows)"
      ],
      "metadata": {
        "id": "txAa1w_dIrYO"
      },
      "execution_count": 52,
      "outputs": []
    },
    {
      "cell_type": "code",
      "source": [
        "print(updated_df)\n",
        "updated_df.to_csv('df.csv')\n",
        "files.download('df.csv')"
      ],
      "metadata": {
        "colab": {
          "base_uri": "https://localhost:8080/",
          "height": 743
        },
        "id": "3WRZnFruGTar",
        "outputId": "508dd9d8-759c-42e8-c2fd-2308c913ade7"
      },
      "execution_count": 53,
      "outputs": [
        {
          "output_type": "stream",
          "name": "stdout",
          "text": [
            "     pdbid  binding_affinity (kcal/mol)  electrostatic (kcal/mol)  \\\n",
            "0     6g3f                     -0.25570                  -0.98408   \n",
            "4     4q3f                     -1.52816                  -5.36862   \n",
            "2     6hxe                     -0.98558                  -8.41628   \n",
            "5     1gyy                     -1.78920                   3.83432   \n",
            "1     5fpd                     -2.61456                  -1.01432   \n",
            "...    ...                          ...                       ...   \n",
            "4996  6gvx                    -39.51860                   0.00000   \n",
            "4995  4qyg                    -37.02860                 -35.92384   \n",
            "4997  5mob                    -30.31542                   0.00000   \n",
            "4998  3l9h                    -55.70448                   0.00000   \n",
            "4999  3dfr                    -51.58218                   0.00000   \n",
            "\n",
            "      polar_solvation (kcal/mol)  non_polar_solvation (kcal/mol)  \\\n",
            "0                       -0.34568                         1.26248   \n",
            "4                       -0.74246                         5.44818   \n",
            "2                       -0.81082                         7.90220   \n",
            "5                       -0.70238                        -3.76078   \n",
            "1                       -0.56942                         1.62432   \n",
            "...                          ...                             ...   \n",
            "4996                    -0.38658                         4.42818   \n",
            "4995                    -3.85320                        38.94632   \n",
            "4997                    -1.08590                         4.35336   \n",
            "4998                    -0.87744                         5.48154   \n",
            "4999                    -1.26558                         4.43528   \n",
            "\n",
            "      vdW (kcal/mol)  weight  entity_count       l1       l2       l3  \n",
            "0           -0.18842   56.72             4  145.566  146.017  152.434  \n",
            "4           -0.86530   38.23             3   83.730   83.730   40.560  \n",
            "2            0.33930   40.45             3   58.500   58.500   85.400  \n",
            "5           -1.16042   17.46             3   44.700   46.700   76.200  \n",
            "1           -2.65510   85.01             3   48.800   95.062   81.779  \n",
            "...              ...     ...           ...      ...      ...      ...  \n",
            "4996       -43.56024   80.37             4   65.475   80.074   77.975  \n",
            "4995       -36.19790   69.19             3   45.107   65.987  115.980  \n",
            "4997       -33.58286   26.10             4   87.470   87.470   55.751  \n",
            "4998       -60.30856   83.92             4  160.950   79.718   69.513  \n",
            "4999       -54.75186   19.55             4   71.860   71.860   93.380  \n",
            "\n",
            "[4999 rows x 11 columns]\n"
          ]
        },
        {
          "output_type": "display_data",
          "data": {
            "text/plain": [
              "<IPython.core.display.Javascript object>"
            ],
            "application/javascript": [
              "\n",
              "    async function download(id, filename, size) {\n",
              "      if (!google.colab.kernel.accessAllowed) {\n",
              "        return;\n",
              "      }\n",
              "      const div = document.createElement('div');\n",
              "      const label = document.createElement('label');\n",
              "      label.textContent = `Downloading \"${filename}\": `;\n",
              "      div.appendChild(label);\n",
              "      const progress = document.createElement('progress');\n",
              "      progress.max = size;\n",
              "      div.appendChild(progress);\n",
              "      document.body.appendChild(div);\n",
              "\n",
              "      const buffers = [];\n",
              "      let downloaded = 0;\n",
              "\n",
              "      const channel = await google.colab.kernel.comms.open(id);\n",
              "      // Send a message to notify the kernel that we're ready.\n",
              "      channel.send({})\n",
              "\n",
              "      for await (const message of channel.messages) {\n",
              "        // Send a message to notify the kernel that we're ready.\n",
              "        channel.send({})\n",
              "        if (message.buffers) {\n",
              "          for (const buffer of message.buffers) {\n",
              "            buffers.push(buffer);\n",
              "            downloaded += buffer.byteLength;\n",
              "            progress.value = downloaded;\n",
              "          }\n",
              "        }\n",
              "      }\n",
              "      const blob = new Blob(buffers, {type: 'application/binary'});\n",
              "      const a = document.createElement('a');\n",
              "      a.href = window.URL.createObjectURL(blob);\n",
              "      a.download = filename;\n",
              "      div.appendChild(a);\n",
              "      a.click();\n",
              "      div.remove();\n",
              "    }\n",
              "  "
            ]
          },
          "metadata": {}
        },
        {
          "output_type": "display_data",
          "data": {
            "text/plain": [
              "<IPython.core.display.Javascript object>"
            ],
            "application/javascript": [
              "download(\"download_23a2a82c-1bc4-4738-86cd-0d6cb1711ced\", \"df.csv\", 420919)"
            ]
          },
          "metadata": {}
        }
      ]
    }
  ]
}